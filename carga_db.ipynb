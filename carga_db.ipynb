{
 "cells": [
  {
   "cell_type": "markdown",
   "metadata": {},
   "source": [
    "Cargamos las resoluciones en una db por cuestiones de eficiencia y performance a la hora de hacer el procesamiento posterior.\n",
    "Se almacena el nombre del archivo, tipo, contenido, fecha de almacenamiento, vigencia. Por el momento la vigencia no se utiliza, pero eventualmente servirá para filtrar las normativas que ya no están vigentes."
   ]
  },
  {
   "cell_type": "code",
   "execution_count": null,
   "metadata": {
    "vscode": {
     "languageId": "plaintext"
    }
   },
   "outputs": [],
   "source": [
    "!pip install PyPDF2\n",
    "!pip install pdf2image\n",
    "!pip install pytesseract"
   ]
  },
  {
   "cell_type": "code",
   "execution_count": null,
   "metadata": {
    "vscode": {
     "languageId": "plaintext"
    }
   },
   "outputs": [],
   "source": [
    "!apt-get update\n",
    "!apt-get install -y poppler-utils\n",
    "!apt-get install -y tesseract-ocr tesseract-ocr-spa"
   ]
  },
  {
   "cell_type": "code",
   "execution_count": null,
   "metadata": {
    "vscode": {
     "languageId": "plaintext"
    }
   },
   "outputs": [],
   "source": [
    "import os\n",
    "import sqlite3\n",
    "from datetime import datetime\n",
    "from PyPDF2 import PdfReader, errors as pdf_errors\n",
    "from pdf2image import convert_from_path\n",
    "import pytesseract"
   ]
  },
  {
   "cell_type": "markdown",
   "metadata": {},
   "source": [
    "Ver de modularizar"
   ]
  },
  {
   "cell_type": "code",
   "execution_count": null,
   "metadata": {
    "vscode": {
     "languageId": "plaintext"
    }
   },
   "outputs": [],
   "source": [
    "# Configurar rutas de Poppler y Tesseract\n",
    "ruta_poppler = \"/usr/bin\"  # Cambia si usas otro sistema o configuración\n",
    "pytesseract.pytesseract.tesseract_cmd = \"/usr/bin/tesseract\" \n",
    "\n",
    "# Crear/conectar a la base de datos\n",
    "db_path = \"/content/normativa_dgcye.db\"\n",
    "conn = sqlite3.connect(db_path)\n",
    "cursor = conn.cursor()\n",
    "\n",
    "# Crear la tabla si no existe\n",
    "cursor.execute('''\n",
    "    CREATE TABLE IF NOT EXISTS archivos (\n",
    "        id INTEGER PRIMARY KEY AUTOINCREMENT,\n",
    "        nombre_archivo TEXT,\n",
    "        tipo_archivo TEXT,\n",
    "        contenido TEXT,\n",
    "        fecha_procesamiento TEXT,\n",
    "        vigente BOOLEAN\n",
    "    )\n",
    "''')\n",
    "\n",
    "def archivo_existe(nombre_archivo):\n",
    "    cursor.execute('SELECT 1 FROM archivos WHERE nombre_archivo = ?', (nombre_archivo,))\n",
    "    return cursor.fetchone() is not None  # Devuelve True si existe\n",
    "\n",
    "# Función para insertar resoluciones en la base de datos si no existe previamente\n",
    "def cargar_resoluciones(nombre_archivo, tipo_archivo, contenido):\n",
    "    if archivo_existe(nombre_archivo):\n",
    "        print(f\"El archivo '{nombre_archivo}' ya existe en la base de datos. No se agregará.\")\n",
    "        return\n",
    "\n",
    "    fecha = datetime.now().strftime('%Y-%m-%d %H:%M:%S')\n",
    "    cursor.execute('''\n",
    "        INSERT INTO archivos (nombre_archivo, tipo_archivo, contenido, fecha_procesamiento, vigente)\n",
    "        VALUES (?, ?, ?, ?, ?)\n",
    "    ''', (nombre_archivo, tipo_archivo, contenido, fecha, True))\n",
    "    conn.commit()\n",
    "    print(f\"Archivo '{nombre_archivo}' agregado correctamente.\")\n",
    "\n",
    "# Función para extraer texto de PDFs normales\n",
    "def extraer_texto_pdf(ruta_archivo):\n",
    "    texto = \"\"\n",
    "    try:\n",
    "        with open(ruta_archivo, 'rb') as archivo_pdf:\n",
    "            lector_pdf = PdfReader(archivo_pdf)\n",
    "            for pagina in lector_pdf.pages:\n",
    "                texto += pagina.extract_text() or \"\"\n",
    "    except pdf_errors.PdfReadError as e:\n",
    "        print(f\"Error al leer el archivo {ruta_archivo}: {e}\")\n",
    "    except Exception as e:\n",
    "        print(f\"Ocurrió un error al procesar {ruta_archivo}: {e}\")\n",
    "    return texto\n",
    "\n",
    "# Función para extraer texto usando OCR en PDFs con imágenes\n",
    "def extraer_texto_ocr(ruta_archivo):\n",
    "    texto = \"\"\n",
    "    try:\n",
    "        paginas_imagen = convert_from_path(ruta_archivo, poppler_path=ruta_poppler)\n",
    "        for pagina_imagen in paginas_imagen:\n",
    "            texto += pytesseract.image_to_string(pagina_imagen, lang='spa')\n",
    "    except Exception as e:\n",
    "        print(f\"Error al aplicar OCR a {ruta_archivo}: {e}\")\n",
    "    return texto\n",
    "\n",
    "# Función principal para procesar PDFs\n",
    "def procesar_pdf(ruta_archivo):\n",
    "    texto = extraer_texto_pdf(ruta_archivo)\n",
    "    tipo_archivo = \"PDF\"\n",
    "    if not texto.strip():\n",
    "        print(f\"Aplicando OCR al archivo {ruta_archivo}\")\n",
    "        texto = extraer_texto_ocr(ruta_archivo)\n",
    "        tipo_archivo = \"OCR\"\n",
    "    return texto, tipo_archivo\n",
    "\n",
    "# Directorio con los PDFs (modifica si es necesario)\n",
    "ruta_directorio = \"/content/resoluciones/\"\n",
    "archivos_pdf = [f for f in os.listdir(ruta_directorio) if f.endswith('.pdf')]\n",
    "\n",
    "# Procesar y cargar los PDFs en la base de datos\n",
    "for archivo in archivos_pdf:\n",
    "    ruta_completa = os.path.join(ruta_directorio, archivo)\n",
    "    texto, tipo_archivo = procesar_pdf(ruta_completa)\n",
    "    if texto:\n",
    "        cargar_resoluciones(archivo, tipo_archivo, texto)\n",
    "\n",
    "# Verificar el contenido de la base de datos\n",
    "cursor.execute('SELECT * FROM archivos')\n",
    "print(cursor.fetchall())\n",
    "\n",
    "# Cerrar conexión a la base\n",
    "conn.close()"
   ]
  },
  {
   "cell_type": "markdown",
   "metadata": {},
   "source": [
    "Esta celda permite ver el contenido de una fila a elección"
   ]
  },
  {
   "cell_type": "code",
   "execution_count": null,
   "metadata": {
    "vscode": {
     "languageId": "plaintext"
    }
   },
   "outputs": [],
   "source": [
    "# Conectar a la base de datos SQLite\n",
    "conn = sqlite3.connect(\"/content/normativa_dgcye.db\")\n",
    "cursor = conn.cursor()\n",
    "\n",
    "# Consultar una línea específica (por ID o algún otro criterio)\n",
    "id_linea = 1  # Cambia este valor al ID que quieras consultar\n",
    "\n",
    "cursor.execute('SELECT * FROM archivos WHERE id = ?', (id_linea,))\n",
    "linea = cursor.fetchone()\n",
    "\n",
    "# Verificar si se encontró la línea y mostrar el contenido\n",
    "if linea:\n",
    "    print(f\"\\nID: {linea[0]}\")\n",
    "    print(f\"Nombre del archivo: {linea[1]}\")\n",
    "    print(f\"Tipo de archivo: {linea[2]}\")\n",
    "    print(f\"Contenido:\\n{linea[3]}\")\n",
    "    print(f\"Fecha de procesamiento: {linea[4]}\")\n",
    "    print(f\"Vigente: {linea[5]}\")\n",
    "else:\n",
    "    print(f\"No se encontró ninguna línea con ID = {id_linea}\")\n",
    "\n",
    "# Cerrar la conexión a la base de datos\n",
    "conn.close()"
   ]
  }
 ],
 "metadata": {
  "language_info": {
   "name": "python"
  }
 },
 "nbformat": 4,
 "nbformat_minor": 2
}
