{
  "cells": [
    {
      "cell_type": "markdown",
      "metadata": {
        "id": "Y0Zs-Uh7gOo0"
      },
      "source": [
        "Cargamos las resoluciones en una db por cuestiones de eficiencia y performance a la hora de hacer el procesamiento posterior.\n",
        "Se almacena el nombre del archivo, tipo, contenido, fecha de almacenamiento, vigencia. Por el momento la vigencia no se utiliza, pero eventualmente servirá para filtrar las normativas que ya no están vigentes."
      ]
    },
    {
      "cell_type": "code",
      "execution_count": 1,
      "metadata": {
        "vscode": {
          "languageId": "plaintext"
        },
        "colab": {
          "base_uri": "https://localhost:8080/"
        },
        "id": "CoaWK7dRgOo6",
        "outputId": "408e2ba4-0ced-4063-9f86-fcb3e11b633e"
      },
      "outputs": [
        {
          "output_type": "stream",
          "name": "stdout",
          "text": [
            "Collecting PyPDF2\n",
            "  Downloading pypdf2-3.0.1-py3-none-any.whl.metadata (6.8 kB)\n",
            "Downloading pypdf2-3.0.1-py3-none-any.whl (232 kB)\n",
            "\u001b[2K   \u001b[90m━━━━━━━━━━━━━━━━━━━━━━━━━━━━━━━━━━━━━━━━\u001b[0m \u001b[32m232.6/232.6 kB\u001b[0m \u001b[31m3.6 MB/s\u001b[0m eta \u001b[36m0:00:00\u001b[0m\n",
            "\u001b[?25hInstalling collected packages: PyPDF2\n",
            "Successfully installed PyPDF2-3.0.1\n",
            "Collecting pdf2image\n",
            "  Downloading pdf2image-1.17.0-py3-none-any.whl.metadata (6.2 kB)\n",
            "Requirement already satisfied: pillow in /usr/local/lib/python3.10/dist-packages (from pdf2image) (11.0.0)\n",
            "Downloading pdf2image-1.17.0-py3-none-any.whl (11 kB)\n",
            "Installing collected packages: pdf2image\n",
            "Successfully installed pdf2image-1.17.0\n",
            "Collecting pytesseract\n",
            "  Downloading pytesseract-0.3.13-py3-none-any.whl.metadata (11 kB)\n",
            "Requirement already satisfied: packaging>=21.3 in /usr/local/lib/python3.10/dist-packages (from pytesseract) (24.2)\n",
            "Requirement already satisfied: Pillow>=8.0.0 in /usr/local/lib/python3.10/dist-packages (from pytesseract) (11.0.0)\n",
            "Downloading pytesseract-0.3.13-py3-none-any.whl (14 kB)\n",
            "Installing collected packages: pytesseract\n",
            "Successfully installed pytesseract-0.3.13\n"
          ]
        }
      ],
      "source": [
        "!pip install PyPDF2\n",
        "!pip install pdf2image\n",
        "!pip install pytesseract"
      ]
    },
    {
      "cell_type": "code",
      "execution_count": 2,
      "metadata": {
        "vscode": {
          "languageId": "plaintext"
        },
        "colab": {
          "base_uri": "https://localhost:8080/"
        },
        "collapsed": true,
        "id": "K8WtSFZXgOo9",
        "outputId": "ee7edcd0-7060-4723-8fd4-681e1eb615c9"
      },
      "outputs": [
        {
          "output_type": "stream",
          "name": "stdout",
          "text": [
            "\r0% [Working]\r            \rGet:1 https://cloud.r-project.org/bin/linux/ubuntu jammy-cran40/ InRelease [3,626 B]\n",
            "Get:2 https://developer.download.nvidia.com/compute/cuda/repos/ubuntu2204/x86_64  InRelease [1,581 B]\n",
            "Hit:3 http://archive.ubuntu.com/ubuntu jammy InRelease\n",
            "Get:4 http://security.ubuntu.com/ubuntu jammy-security InRelease [129 kB]\n",
            "Get:5 https://developer.download.nvidia.com/compute/cuda/repos/ubuntu2204/x86_64  Packages [1,110 kB]\n",
            "Get:6 http://archive.ubuntu.com/ubuntu jammy-updates InRelease [128 kB]\n",
            "Get:7 https://r2u.stat.illinois.edu/ubuntu jammy InRelease [6,555 B]\n",
            "Hit:8 https://ppa.launchpadcontent.net/deadsnakes/ppa/ubuntu jammy InRelease\n",
            "Hit:9 https://ppa.launchpadcontent.net/graphics-drivers/ppa/ubuntu jammy InRelease\n",
            "Hit:10 https://ppa.launchpadcontent.net/ubuntugis/ppa/ubuntu jammy InRelease\n",
            "Get:11 http://archive.ubuntu.com/ubuntu jammy-backports InRelease [127 kB]\n",
            "Get:12 https://r2u.stat.illinois.edu/ubuntu jammy/main amd64 Packages [2,615 kB]\n",
            "Get:13 http://security.ubuntu.com/ubuntu jammy-security/universe amd64 Packages [1,164 kB]\n",
            "Get:14 http://archive.ubuntu.com/ubuntu jammy-updates/main amd64 Packages [2,701 kB]\n",
            "Get:15 http://security.ubuntu.com/ubuntu jammy-security/main amd64 Packages [2,425 kB]\n",
            "Get:16 https://r2u.stat.illinois.edu/ubuntu jammy/main all Packages [8,487 kB]\n",
            "Get:17 http://archive.ubuntu.com/ubuntu jammy-updates/universe amd64 Packages [1,453 kB]\n",
            "Fetched 20.4 MB in 7s (2,952 kB/s)\n",
            "Reading package lists... Done\n",
            "W: Skipping acquire of configured file 'main/source/Sources' as repository 'https://r2u.stat.illinois.edu/ubuntu jammy InRelease' does not seem to provide it (sources.list entry misspelt?)\n",
            "Reading package lists... Done\n",
            "Building dependency tree... Done\n",
            "Reading state information... Done\n",
            "The following NEW packages will be installed:\n",
            "  poppler-utils\n",
            "0 upgraded, 1 newly installed, 0 to remove and 55 not upgraded.\n",
            "Need to get 186 kB of archives.\n",
            "After this operation, 696 kB of additional disk space will be used.\n",
            "Get:1 http://archive.ubuntu.com/ubuntu jammy-updates/main amd64 poppler-utils amd64 22.02.0-2ubuntu0.5 [186 kB]\n",
            "Fetched 186 kB in 1s (146 kB/s)\n",
            "Selecting previously unselected package poppler-utils.\n",
            "(Reading database ... 123629 files and directories currently installed.)\n",
            "Preparing to unpack .../poppler-utils_22.02.0-2ubuntu0.5_amd64.deb ...\n",
            "Unpacking poppler-utils (22.02.0-2ubuntu0.5) ...\n",
            "Setting up poppler-utils (22.02.0-2ubuntu0.5) ...\n",
            "Processing triggers for man-db (2.10.2-1) ...\n",
            "Reading package lists... Done\n",
            "Building dependency tree... Done\n",
            "Reading state information... Done\n",
            "The following additional packages will be installed:\n",
            "  tesseract-ocr-eng tesseract-ocr-osd\n",
            "The following NEW packages will be installed:\n",
            "  tesseract-ocr tesseract-ocr-eng tesseract-ocr-osd tesseract-ocr-spa\n",
            "0 upgraded, 4 newly installed, 0 to remove and 55 not upgraded.\n",
            "Need to get 5,768 kB of archives.\n",
            "After this operation, 17.9 MB of additional disk space will be used.\n",
            "Get:1 http://archive.ubuntu.com/ubuntu jammy/universe amd64 tesseract-ocr-eng all 1:4.00~git30-7274cfa-1.1 [1,591 kB]\n",
            "Get:2 http://archive.ubuntu.com/ubuntu jammy/universe amd64 tesseract-ocr-osd all 1:4.00~git30-7274cfa-1.1 [2,990 kB]\n",
            "Get:3 http://archive.ubuntu.com/ubuntu jammy/universe amd64 tesseract-ocr amd64 4.1.1-2.1build1 [236 kB]\n",
            "Get:4 http://archive.ubuntu.com/ubuntu jammy/universe amd64 tesseract-ocr-spa all 1:4.00~git30-7274cfa-1.1 [951 kB]\n",
            "Fetched 5,768 kB in 2s (2,313 kB/s)\n",
            "Selecting previously unselected package tesseract-ocr-eng.\n",
            "(Reading database ... 123659 files and directories currently installed.)\n",
            "Preparing to unpack .../tesseract-ocr-eng_1%3a4.00~git30-7274cfa-1.1_all.deb ...\n",
            "Unpacking tesseract-ocr-eng (1:4.00~git30-7274cfa-1.1) ...\n",
            "Selecting previously unselected package tesseract-ocr-osd.\n",
            "Preparing to unpack .../tesseract-ocr-osd_1%3a4.00~git30-7274cfa-1.1_all.deb ...\n",
            "Unpacking tesseract-ocr-osd (1:4.00~git30-7274cfa-1.1) ...\n",
            "Selecting previously unselected package tesseract-ocr.\n",
            "Preparing to unpack .../tesseract-ocr_4.1.1-2.1build1_amd64.deb ...\n",
            "Unpacking tesseract-ocr (4.1.1-2.1build1) ...\n",
            "Selecting previously unselected package tesseract-ocr-spa.\n",
            "Preparing to unpack .../tesseract-ocr-spa_1%3a4.00~git30-7274cfa-1.1_all.deb ...\n",
            "Unpacking tesseract-ocr-spa (1:4.00~git30-7274cfa-1.1) ...\n",
            "Setting up tesseract-ocr-eng (1:4.00~git30-7274cfa-1.1) ...\n",
            "Setting up tesseract-ocr-spa (1:4.00~git30-7274cfa-1.1) ...\n",
            "Setting up tesseract-ocr-osd (1:4.00~git30-7274cfa-1.1) ...\n",
            "Setting up tesseract-ocr (4.1.1-2.1build1) ...\n",
            "Processing triggers for man-db (2.10.2-1) ...\n"
          ]
        }
      ],
      "source": [
        "!apt-get update\n",
        "!apt-get install -y poppler-utils\n",
        "!apt-get install -y tesseract-ocr tesseract-ocr-spa"
      ]
    },
    {
      "cell_type": "code",
      "execution_count": 3,
      "metadata": {
        "vscode": {
          "languageId": "plaintext"
        },
        "id": "_8EzJhXRgOo-"
      },
      "outputs": [],
      "source": [
        "import os\n",
        "import sqlite3\n",
        "from datetime import datetime\n",
        "from PyPDF2 import PdfReader, errors as pdf_errors\n",
        "from pdf2image import convert_from_path\n",
        "import pytesseract"
      ]
    },
    {
      "cell_type": "markdown",
      "metadata": {
        "id": "8YyCJmKAgOo_"
      },
      "source": [
        "Ver de modularizar"
      ]
    },
    {
      "cell_type": "code",
      "execution_count": null,
      "metadata": {
        "vscode": {
          "languageId": "plaintext"
        },
        "id": "Oat8P6DVgOo_"
      },
      "outputs": [],
      "source": [
        "# Configurar rutas de Poppler y Tesseract\n",
        "ruta_poppler = \"/usr/bin\"  # Cambia si usas otro sistema o configuración\n",
        "pytesseract.pytesseract.tesseract_cmd = \"/usr/bin/tesseract\"\n",
        "\n",
        "# Crear/conectar a la base de datos\n",
        "db_path = \"/content/normativa_dgcye.db\"\n",
        "conn = sqlite3.connect(db_path)\n",
        "cursor = conn.cursor()\n",
        "\n",
        "# Crear la tabla si no existe\n",
        "cursor.execute('''\n",
        "    CREATE TABLE IF NOT EXISTS archivos (\n",
        "        id INTEGER PRIMARY KEY AUTOINCREMENT,\n",
        "        nombre_archivo TEXT,\n",
        "        tipo_archivo TEXT,\n",
        "        contenido TEXT,\n",
        "        fecha_procesamiento TEXT,\n",
        "        vigente BOOLEAN\n",
        "    )\n",
        "''')\n",
        "\n",
        "def archivo_existe(nombre_archivo):\n",
        "    cursor.execute('SELECT 1 FROM archivos WHERE nombre_archivo = ?', (nombre_archivo,))\n",
        "    return cursor.fetchone() is not None  # Devuelve True si existe\n",
        "\n",
        "# Función para insertar resoluciones en la base de datos si no existe previamente\n",
        "def cargar_resoluciones(nombre_archivo, tipo_archivo, contenido):\n",
        "    if archivo_existe(nombre_archivo):\n",
        "        print(f\"El archivo '{nombre_archivo}' ya existe en la base de datos. No se agregará.\")\n",
        "        return\n",
        "\n",
        "    fecha = datetime.now().strftime('%Y-%m-%d %H:%M:%S')\n",
        "    cursor.execute('''\n",
        "        INSERT INTO archivos (nombre_archivo, tipo_archivo, contenido, fecha_procesamiento, vigente)\n",
        "        VALUES (?, ?, ?, ?, ?)\n",
        "    ''', (nombre_archivo, tipo_archivo, contenido, fecha, True))\n",
        "    conn.commit()\n",
        "    print(f\"Archivo '{nombre_archivo}' agregado correctamente.\")\n",
        "\n",
        "# Función para extraer texto de PDFs normales\n",
        "def extraer_texto_pdf(ruta_archivo):\n",
        "    texto = \"\"\n",
        "    try:\n",
        "        with open(ruta_archivo, 'rb') as archivo_pdf:\n",
        "            lector_pdf = PdfReader(archivo_pdf)\n",
        "            for pagina in lector_pdf.pages:\n",
        "                texto += pagina.extract_text() or \"\"\n",
        "    except pdf_errors.PdfReadError as e:\n",
        "        print(f\"Error al leer el archivo {ruta_archivo}: {e}\")\n",
        "    except Exception as e:\n",
        "        print(f\"Ocurrió un error al procesar {ruta_archivo}: {e}\")\n",
        "    return texto\n",
        "\n",
        "# Función para extraer texto usando OCR en PDFs con imágenes\n",
        "def extraer_texto_ocr(ruta_archivo):\n",
        "    texto = \"\"\n",
        "    try:\n",
        "        paginas_imagen = convert_from_path(ruta_archivo, poppler_path=ruta_poppler)\n",
        "        for pagina_imagen in paginas_imagen:\n",
        "            texto += pytesseract.image_to_string(pagina_imagen, lang='spa')\n",
        "    except Exception as e:\n",
        "        print(f\"Error al aplicar OCR a {ruta_archivo}: {e}\")\n",
        "    return texto\n",
        "\n",
        "# Función principal para procesar PDFs\n",
        "def procesar_pdf(ruta_archivo):\n",
        "    texto = extraer_texto_pdf(ruta_archivo)\n",
        "    tipo_archivo = \"PDF\"\n",
        "    if not texto.strip():\n",
        "        print(f\"Aplicando OCR al archivo {ruta_archivo}\")\n",
        "        texto = extraer_texto_ocr(ruta_archivo)\n",
        "        tipo_archivo = \"OCR\"\n",
        "    return texto, tipo_archivo\n",
        "\n",
        "# Directorio con los PDFs (modifica si es necesario)\n",
        "ruta_directorio = \"/content/resoluciones/\"\n",
        "archivos_pdf = [f for f in os.listdir(ruta_directorio) if f.endswith('.pdf')]\n",
        "\n",
        "# Procesar y cargar los PDFs en la base de datos\n",
        "for archivo in archivos_pdf:\n",
        "    ruta_completa = os.path.join(ruta_directorio, archivo)\n",
        "    texto, tipo_archivo = procesar_pdf(ruta_completa)\n",
        "    if texto:\n",
        "        cargar_resoluciones(archivo, tipo_archivo, texto)\n",
        "\n",
        "# Verificar el contenido de la base de datos\n",
        "cursor.execute('SELECT * FROM archivos')\n",
        "print(cursor.fetchall())\n",
        "\n",
        "# Cerrar conexión a la base\n",
        "conn.close()"
      ]
    },
    {
      "cell_type": "markdown",
      "metadata": {
        "id": "3HMZTJH_gOpB"
      },
      "source": [
        "Ver última fila"
      ]
    },
    {
      "cell_type": "code",
      "execution_count": 10,
      "metadata": {
        "vscode": {
          "languageId": "plaintext"
        },
        "colab": {
          "base_uri": "https://localhost:8080/"
        },
        "collapsed": true,
        "id": "GrO9zI8AgOpB",
        "outputId": "3635e0f3-a790-4f13-d86c-ab17c65a20d5"
      },
      "outputs": [
        {
          "output_type": "stream",
          "name": "stdout",
          "text": [
            "\n",
            "ID: 749\n",
            "Nombre del archivo: RESOLUCION_15395_1997.pdf\n",
            "Tipo de archivo: PDF\n",
            "Contenido: Resolución: 15395 -97 \n",
            "La Plata, 5 de Diciembre de 1997  \n",
            "Visto que las Secretarías de Inspección, no poseen su categorización; y  \n",
            "CONSIDERANDO:  \n",
            "Que en el Art. 11º de las Leyes 10579 y 10743, se establece el escalafón docente general incluyendo en el inciso a)  con los ítems VII, \n",
            "VIII y IX los cargos de Secretaria de Inspección de Primera, Segunda y Tercera categoría respectivam ente; \n",
            "Que la categorización vigente fue establecida por Resolución Nº 3576/77, que por Resolución Nº 293/8 6 se mantuvo al solo efecto de  \n",
            "la liquidación de haberes;  \n",
            "Que en consecuencia resulta indispensable establecer pautas conforme las normas legales vigentes;  \n",
            "Que, a tal fin se han estudiado los antecedentes normativos sobre el tema;  \n",
            "Que la Dirección de Gestión y Capacitación Educativa pr opone realizar la categorización conforme a la cantidad de cargos docentes \n",
            "del distrito;  \n",
            "Que la Subsecretaria de Educación avala la propuesta;  \n",
            "POR ELLO,  \n",
            "LA DIRECTORA GENERAL DE CULTURA Y EDUCACIÓN  \n",
            "RESUELVE:  \n",
            "ARTICULO 1°. -Establecer que la categorización de las Secretarías de Inspección se realizarán de acuerdo con la cantidad de cargos \n",
            "docentes del distrito y conforme la escala que se especifica.  \n",
            "CATEGORIA CANTIDAD DE CARGOS docentes  \n",
            "1º más de 3500  \n",
            "2º de 1000 a 3499  \n",
            "3º hasta 1000  \n",
            " \n",
            "ARTICULO 2 °.-Determinar que  en las Secretarías de Inspección de Primera Categoría que excediera los 6000 cargos docentes, se \n",
            "designará 1 (un) Secretario de Inspección adjunto con categoría de Segunda.  \n",
            "ARTICULO 3 °.-Aprobar la categorización de las Secretarías de Inspección que obra c omo Anexo I, que se declara parte integrante \n",
            "de la presente Resolución.  \n",
            "ARTICULO 4 °.- Determinar que deberá ratificarse o rectificarse la categorización asignada, al 30 de Junio de cada  año, en función \n",
            "de los cargos docentes aprobados.  \n",
            "ARTICULO 5 º:- Las Se cretaría de Inspección que a la fecha del dictado del presente acto resolutivo, percibirán un haber mayor al \n",
            "correspondiente a su categoría, continuarán percibiéndolo hasta que alguna de las causales prevista en las normas vigentes determinen \n",
            "su cese.  \n",
            "ARTI CULO 6 º:- Derogar la Resolución 293/86 y toda otra norma que se oponga a la presente.  \n",
            "ARTICULO 7º :- La presente Resolución será refrendada por la Señora Subsecretaria de Educación y por el Señor Subs ecretario \n",
            "Administrativo.  \n",
            "ARTICULO 8 :- Registrar esta Res olución que será desglosada para su archivo en la Dirección de Despacho, la que en su lugar \n",
            "agregará copia autenticada de la misma; notificar a la Subsecretaría de Educación y Administrativa, a las Direcciones de Gestión y \n",
            "capacitación Educativa y de Coord inación Legal y Técnica, a todas las Direcciones Técnicas y docentes, de Personal, de \n",
            "Administración Contable,de Coordinación de Consejos Escolares y por su intermedio a quien correspond e.  \n",
            "ANEXO I  \n",
            " Primera Categoría:  \n",
            "LA PLATA -BERAZATEGUI - FLORNCIO VARELA - AVELLANEDA -ALTE. BOWN -LANUS -LOMAS DE ZAMORA -\n",
            "QUILMES –LA MATANZA -MORON -MERLO - MORENO -GRAL . SAN MARTIN -JOSE.C. PAZ -SAN MIGUEL -TRES DE \n",
            "FEBRERO -TIGRE - SAN ISIDRO -SAN NICOLAS -OLAVARRIA -BAHÍA BLANCA - GRAL. PUEYRREDON.  \n",
            "Segunda Categoría:  \n",
            " \n",
            "BERISSO - CHASCOMÚS - ENSENADA - PTE. PERÓN - ESTEBAN ECHEVERRÍA - EZEIZA -HURLINGAM - ITUZAINGÓ - \n",
            "MALVINAS ARGENTINAS - ESCOBAR - PILAR - CAMPANA - SAN FERNANDO - SAN PEDRO - VICENTE LOPEZ -ZÁRATE -\n",
            "PERGAMINO -JUNIN -BRAGADO -CHACABUCO -LINCON -MERCEDES -CHIVILCOY -GRAL.RODRIGUEZ -LUJAN - \n",
            "TRENQUE –LAUQ UEN -PEHUAJÓ -NUEVE DE JULIO - VEINTICINCO DE MAYO - AZUL -BOLIVAR -C. ROSALES - C. \n",
            "SUAREZ - PATAGONES - NECOCHEA -B. JUAREZ - TANDIL - TRES ARROYOS - BALCARCE - PARTIDO DE LA COSTA - \n",
            "Tercera Categoría  \n",
            "CNEL. BRANDSEN -GRAL.BELGRANO -GRAL PAZ - MAGDALENA - MONTE - PILA -PUNTA I NDIO - SAN VICENTE -\n",
            "CAÑUELAS - GRAL.LAS HERAS - MARCOS PAZ - EXALTACION DE LA CRUZ - BARADERO - ARRECIFES -COLON -\n",
            "RAMALLO -ROJAS -SALTO -FLORENTINO AMEGHINO -GRAL.ARENALES -GRAL. PINTO -GRAL.VIAMONTE -L.N. ALEM -\n",
            "ALBERTI -CAPITAN SARMIENTO -CARMEN DE ARECO -SAN ANDRES DE GILES -SAN ANTONIO DE ARECO -\n",
            "SUIPACHA -A. ALSINA -GRAL VILLEGAS - GUAMINÍ -PELLEGRINI -RIVADAVIA -SALLIQUELÓ -TRES LOMAS - \n",
            "C.CASARES - C. TEJEDOR - DIREAUX - HIPÓLITO IRIGOYEN - SALADILLO -GRAL.ALVEAR -LAS FLORES - LOBOS -\n",
            "NAVARRO - ROQUE PEREZ -GRAL. LAMADRID -LAPRIDA - RAUCH - TAPAL QUÉ - CNEL. DORREGO. -CNEL. PRINGLES -\n",
            "MONTE HERMOSO - PUAN -SAAVEDRA -TORQUINS - VILLARINO -AYACUCHO -A.GONZALES CHAVEZ -LOBERIA - SAN \n",
            "CAYETANO -CASTELLI -DOLORES - GRAL. ALVARADO -GRAL.GUIDO -GRAL.LAVALLE - GRAL. MADARIAGA - MAIPÚ - \n",
            "MAR CHIQUITA - PINAMAR - TORDILLO -VILLA GES ELL- \n",
            " \n",
            " \n",
            "Fecha de procesamiento: 2024-10-21 21:48:00\n",
            "Vigente: 1\n",
            "Etiquetas: []\n"
          ]
        }
      ],
      "source": [
        "# Conectar a la base de datos SQLite\n",
        "conn = sqlite3.connect(\"/content/normativa_dgcye.db\")\n",
        "cursor = conn.cursor()\n",
        "\n",
        "cursor.execute('SELECT * FROM archivos ORDER BY id DESC LIMIT 1')\n",
        "linea = cursor.fetchone()\n",
        "\n",
        "# Verificar si se encontró la línea y mostrar el contenido\n",
        "if linea:\n",
        "    print(f\"\\nID: {linea[0]}\")\n",
        "    print(f\"Nombre del archivo: {linea[1]}\")\n",
        "    print(f\"Tipo de archivo: {linea[2]}\")\n",
        "    print(f\"Contenido: {linea[3]}\")\n",
        "    print(f\"Fecha de procesamiento: {linea[4]}\")\n",
        "    print(f\"Vigente: {linea[5]}\")\n",
        "    print(f\"Etiquetas: {linea[6]}\")\n",
        "else:\n",
        "    print(f\"No se encontró ninguna línea\")\n",
        "\n",
        "# Cerrar la conexión a la base de datos\n",
        "conn.close()"
      ]
    },
    {
      "cell_type": "markdown",
      "source": [
        "## Agrego columna Etiquetas vacías por default"
      ],
      "metadata": {
        "id": "pmd1o-oKjDyr"
      }
    },
    {
      "cell_type": "code",
      "source": [
        "# Conectar a la base de datos SQLite\n",
        "conn = sqlite3.connect(\"/content/normativa_dgcye.db\")\n",
        "cursor = conn.cursor()\n",
        "\n",
        "try:\n",
        "    cursor.execute(\"ALTER TABLE archivos ADD COLUMN etiquetas TEXT DEFAULT '[]'\")\n",
        "    conn.commit()\n",
        "    print(\"Columna 'etiquetas' agregada exitosamente.\")\n",
        "except sqlite3.OperationalError as e:\n",
        "    print(\"Error:\", e)\n",
        "\n",
        "# Cerrar la conexión a la base de datos\n",
        "conn.close()"
      ],
      "metadata": {
        "colab": {
          "base_uri": "https://localhost:8080/"
        },
        "id": "IaOV8fdIgubV",
        "outputId": "3ccbc5c9-6ae4-4fee-9601-a87809220dca"
      },
      "execution_count": 5,
      "outputs": [
        {
          "output_type": "stream",
          "name": "stdout",
          "text": [
            "Columna 'etiquetas' agregada exitosamente.\n"
          ]
        }
      ]
    },
    {
      "cell_type": "code",
      "source": [
        "conn = sqlite3.connect(\"/content/normativa_dgcye.db\")\n",
        "cursor = conn.cursor()\n",
        "\n",
        "tabla = \"archivos\"\n",
        "cursor.execute(f\"PRAGMA table_info({tabla})\")\n",
        "columnas = cursor.fetchall()\n",
        "\n",
        "# Imprimir los nombres de las columnas\n",
        "print(\"Nombres de las columnas:\")\n",
        "for columna in columnas:\n",
        "    print(columna[1])  # El nombre de la columna está en el índice 1\n",
        "\n",
        "# Cerrar la conexión a la base de datos\n",
        "conn.close()"
      ],
      "metadata": {
        "colab": {
          "base_uri": "https://localhost:8080/"
        },
        "id": "8Kd85H7fhWrb",
        "outputId": "38c065a3-f154-48e8-bee7-822fa8435965"
      },
      "execution_count": 6,
      "outputs": [
        {
          "output_type": "stream",
          "name": "stdout",
          "text": [
            "Nombres de las columnas:\n",
            "id\n",
            "nombre_archivo\n",
            "tipo_archivo\n",
            "contenido\n",
            "fecha_procesamiento\n",
            "vigente\n",
            "etiquetas\n"
          ]
        }
      ]
    }
  ],
  "metadata": {
    "language_info": {
      "name": "python"
    },
    "colab": {
      "provenance": []
    },
    "kernelspec": {
      "name": "python3",
      "display_name": "Python 3"
    }
  },
  "nbformat": 4,
  "nbformat_minor": 0
}